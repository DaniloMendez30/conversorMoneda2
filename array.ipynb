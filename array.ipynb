{
  "nbformat": 4,
  "nbformat_minor": 0,
  "metadata": {
    "colab": {
      "name": "array.ipynb",
      "provenance": [],
      "authorship_tag": "ABX9TyOg1UFCozX7MBCivHaNFI5m",
      "include_colab_link": true
    },
    "kernelspec": {
      "name": "python3",
      "display_name": "Python 3"
    },
    "language_info": {
      "name": "python"
    }
  },
  "cells": [
    {
      "cell_type": "markdown",
      "metadata": {
        "id": "view-in-github",
        "colab_type": "text"
      },
      "source": [
        "<a href=\"https://colab.research.google.com/github/DaniloMendez30/conversorMoneda2/blob/main/array.ipynb\" target=\"_parent\"><img src=\"https://colab.research.google.com/assets/colab-badge.svg\" alt=\"Open In Colab\"/></a>"
      ]
    },
    {
      "cell_type": "code",
      "execution_count": 1,
      "metadata": {
        "id": "nnzMpDxB3dnd"
      },
      "outputs": [],
      "source": [
        "import numpy as np"
      ]
    },
    {
      "cell_type": "code",
      "source": [
        "lista = [1,2,3,4,5,6,7,8,9]\n",
        "ar = np.array(lista)\n",
        "print(ar)"
      ],
      "metadata": {
        "colab": {
          "base_uri": "https://localhost:8080/"
        },
        "id": "th6owIet32YO",
        "outputId": "9123edf9-b4d0-426a-fe51-9d9db7ab3f84"
      },
      "execution_count": 9,
      "outputs": [
        {
          "output_type": "stream",
          "name": "stdout",
          "text": [
            "[1 2 3 4 5 6 7 8 9]\n"
          ]
        }
      ]
    },
    {
      "cell_type": "code",
      "source": [
        "matriz = [[1,2,3], [3,4,5],[6,7,8]]\n",
        "matriz = np.array(matriz)\n",
        "print(matriz)"
      ],
      "metadata": {
        "colab": {
          "base_uri": "https://localhost:8080/"
        },
        "id": "G5E4qYi741Ac",
        "outputId": "cf1cce47-dc0b-4743-d9c6-6bca5e3d90de"
      },
      "execution_count": 6,
      "outputs": [
        {
          "output_type": "stream",
          "name": "stdout",
          "text": [
            "[[1 2 3]\n",
            " [3 4 5]\n",
            " [6 7 8]]\n"
          ]
        }
      ]
    },
    {
      "cell_type": "code",
      "source": [
        "matriz_3d = [ [[1, 2],\n",
        "     [3, 4]],\n",
        "     [[5, 6],\n",
        "     [7, 8]]\n",
        "            ]\n",
        "matriz_3d = np.array(matriz_3d)\n",
        "print(matriz_3d)"
      ],
      "metadata": {
        "colab": {
          "base_uri": "https://localhost:8080/"
        },
        "id": "lF9I8D7j-oUU",
        "outputId": "3d950cb3-1c8e-46c6-8b73-9b901f0bcfe1"
      },
      "execution_count": 28,
      "outputs": [
        {
          "output_type": "stream",
          "name": "stdout",
          "text": [
            "[[[1 2]\n",
            "  [3 4]]\n",
            "\n",
            " [[5 6]\n",
            "  [7 8]]]\n"
          ]
        }
      ]
    },
    {
      "cell_type": "markdown",
      "source": [
        "## Indexado:\n",
        "> \n",
        "El indexado nos permite acceder a los elementos de los array y matrices\n",
        "Los elementos se empiezan a contar desde 0.\n",
        "\n",
        "\n"
      ],
      "metadata": {
        "id": "Qr7lP1XQ61hf"
      }
    },
    {
      "cell_type": "code",
      "source": [
        "matriz[0,2] #accedemos al indice de la matriz fila posición 0 y columna posición 2"
      ],
      "metadata": {
        "colab": {
          "base_uri": "https://localhost:8080/"
        },
        "id": "BPEFwTG16PKH",
        "outputId": "1ad36570-1ece-4144-c161-e596c403e08f"
      },
      "execution_count": 7,
      "outputs": [
        {
          "output_type": "execute_result",
          "data": {
            "text/plain": [
              "3"
            ]
          },
          "metadata": {},
          "execution_count": 7
        }
      ]
    },
    {
      "cell_type": "code",
      "source": [
        "matriz[1:, 0:2] #empezamos desde la posicion 1 para adelante y traemos desde la columna posicion 0 hasta 2"
      ],
      "metadata": {
        "colab": {
          "base_uri": "https://localhost:8080/"
        },
        "id": "VzN10vnh9PHo",
        "outputId": "5e33d8fa-40a2-4e6c-a67c-234671dd105e"
      },
      "execution_count": 14,
      "outputs": [
        {
          "output_type": "execute_result",
          "data": {
            "text/plain": [
              "array([[3, 4],\n",
              "       [6, 7]])"
            ]
          },
          "metadata": {},
          "execution_count": 14
        }
      ]
    },
    {
      "cell_type": "code",
      "source": [
        "matriz_3d[:,0,0] # Todas las matrices, primera fila, primera columna"
      ],
      "metadata": {
        "colab": {
          "base_uri": "https://localhost:8080/"
        },
        "id": "0BOZSrxhBMM2",
        "outputId": "4dfe6a5a-29ad-4634-bd3d-8661cfe39891"
      },
      "execution_count": 29,
      "outputs": [
        {
          "output_type": "execute_result",
          "data": {
            "text/plain": [
              "array([1, 5])"
            ]
          },
          "metadata": {},
          "execution_count": 29
        }
      ]
    },
    {
      "cell_type": "markdown",
      "source": [
        "## Slicing\n",
        "\n",
        "> Nos permite extraer varios datos, tiene un comienzo y un final.\n",
        "\n"
      ],
      "metadata": {
        "id": "X1huZIzv7wsO"
      }
    },
    {
      "cell_type": "code",
      "source": [
        "ar[1:3] #nos permite recorrer la lista desde la posicion 0 a la 3"
      ],
      "metadata": {
        "colab": {
          "base_uri": "https://localhost:8080/"
        },
        "id": "ZuDzW9Kr6lwQ",
        "outputId": "b9be9d73-cd46-48de-d00c-47c95ab4785b"
      },
      "execution_count": 13,
      "outputs": [
        {
          "output_type": "execute_result",
          "data": {
            "text/plain": [
              "array([2, 3])"
            ]
          },
          "metadata": {},
          "execution_count": 13
        }
      ]
    },
    {
      "cell_type": "code",
      "source": [
        "ar[::3] #avanza cada tres pociciones "
      ],
      "metadata": {
        "colab": {
          "base_uri": "https://localhost:8080/"
        },
        "id": "W8VA4MN29QZv",
        "outputId": "f4d6cb23-0bfa-442f-83fb-5a0b07794e3a"
      },
      "execution_count": 11,
      "outputs": [
        {
          "output_type": "execute_result",
          "data": {
            "text/plain": [
              "array([1, 4, 7])"
            ]
          },
          "metadata": {},
          "execution_count": 11
        }
      ]
    }
  ]
}